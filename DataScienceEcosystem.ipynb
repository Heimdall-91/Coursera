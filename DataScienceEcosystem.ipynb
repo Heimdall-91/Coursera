{
 "cells": [
  {
   "cell_type": "markdown",
   "id": "98912b42-a2f3-431f-a397-2bba4d2dffa0",
   "metadata": {
    "tags": []
   },
   "source": [
    "# Data Science Tools and Ecosystem"
   ]
  },
  {
   "cell_type": "markdown",
   "id": "30c68372-0eaf-4db8-9770-96017e14e8ee",
   "metadata": {},
   "source": [
    "In this notebook, Data Science Tools and Ecosystem are summarized."
   ]
  },
  {
   "cell_type": "markdown",
   "id": "26ca9763-dcaa-4e59-aeea-3dcede3e0b63",
   "metadata": {},
   "source": [
    "**Objectives**\n",
    "\n",
    "- List popular languages to Data Science\n",
    "- List Data Science tools and libraries\n",
    "- To give examples of evaluating expressions in Python"
   ]
  },
  {
   "cell_type": "markdown",
   "id": "2c45b3d4-4ef9-46db-8bba-6fad769e4305",
   "metadata": {},
   "source": [
    "Some of the popular languages Data Scientists use are:\n",
    "\n",
    "1. Python\n",
    "2. R\n",
    "3. Julia"
   ]
  },
  {
   "cell_type": "markdown",
   "id": "2919b44b-e5f4-46b8-9c08-785a18b4f1a0",
   "metadata": {},
   "source": [
    "Some of the commonly used libraries used by Data Scientists include:\n",
    "\n",
    "1. Pandas\n",
    "2. Matplotlib\n",
    "3. Scikit-learn"
   ]
  },
  {
   "cell_type": "markdown",
   "id": "916bea24-5e0f-4d42-9051-d89de07c8c57",
   "metadata": {
    "tags": []
   },
   "source": [
    "| Data Science Tools |\n",
    "|--------------------|\n",
    "| Hadoop |\n",
    "| Apache Spark |\n",
    "| TensorFlow |"
   ]
  },
  {
   "cell_type": "markdown",
   "id": "a200024b-7175-4af0-9a19-6c775cae0cc8",
   "metadata": {},
   "source": [
    "### Below are a few examples of evaluating arithmetic expressions in Python"
   ]
  },
  {
   "cell_type": "code",
   "execution_count": 3,
   "id": "d4eb869f-52e7-4558-adcb-b20ff8ab759d",
   "metadata": {
    "tags": []
   },
   "outputs": [
    {
     "data": {
      "text/plain": [
       "17"
      ]
     },
     "execution_count": 3,
     "metadata": {},
     "output_type": "execute_result"
    }
   ],
   "source": [
    "# This is a simple arithmetic expression to multiply then add integers\n",
    "\n",
    "(3*4)+5"
   ]
  },
  {
   "cell_type": "code",
   "execution_count": 4,
   "id": "7f243e75-94ce-485b-8348-d7ae7cb90eaf",
   "metadata": {
    "tags": []
   },
   "outputs": [
    {
     "data": {
      "text/plain": [
       "3.3333333333333335"
      ]
     },
     "execution_count": 4,
     "metadata": {},
     "output_type": "execute_result"
    }
   ],
   "source": [
    "# This will convert 200 minutes to hours by dividing by 60\n",
    "\n",
    "200 / 60"
   ]
  },
  {
   "cell_type": "markdown",
   "id": "c6284a8d-0007-4976-a89e-ec9c08b64fee",
   "metadata": {
    "tags": []
   },
   "source": [
    "## Author\n",
    "Maksym Tsupko"
   ]
  }
 ],
 "metadata": {
  "kernelspec": {
   "display_name": "Python",
   "language": "python",
   "name": "conda-env-python-py"
  },
  "language_info": {
   "codemirror_mode": {
    "name": "ipython",
    "version": 3
   },
   "file_extension": ".py",
   "mimetype": "text/x-python",
   "name": "python",
   "nbconvert_exporter": "python",
   "pygments_lexer": "ipython3",
   "version": "3.7.12"
  }
 },
 "nbformat": 4,
 "nbformat_minor": 5
}
